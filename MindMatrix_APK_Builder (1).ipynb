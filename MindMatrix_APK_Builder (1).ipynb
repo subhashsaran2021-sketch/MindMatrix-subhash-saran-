{
 "cells": [
  {
   "cell_type": "markdown",
   "metadata": {},
   "source": [
    "# MindMatrix APK Builder (Google Colab)\n",
    "---\n",
    "This notebook will help you build your **MindMatrix game** into an APK using Buildozer on Google Colab.\n",
    "\n",
    "### Steps:\n",
    "1. Install dependencies\n",
    "2. Upload your game ZIP (MindMatrix.zip)\n",
    "3. Initialize Buildozer\n",
    "4. Fix buildozer.spec automatically\n",
    "5. Build APK (takes 30–60 minutes)\n",
    "6. Download APK"
   ]
  },
  {
   "cell_type": "code",
   "execution_count": null,
   "metadata": {},
   "outputs": [],
   "source": [
    "# --- Step 1: Install dependencies ---\n",
    "!sudo apt update\n",
    "!sudo apt install -y python3-pip git zip unzip openjdk-17-jdk\n",
    "!pip install --upgrade pip\n",
    "!pip install buildozer cython virtualenv"
   ]
  },
  {
   "cell_type": "code",
   "execution_count": null,
   "metadata": {},
   "outputs": [],
   "source": [
    "# --- Step 2: Upload your game ZIP ---\n",
    "from google.colab import files\n",
    "uploaded = files.upload()   # Upload MindMatrix.zip\n",
    "\n",
    "import zipfile, os\n",
    "zip_path = list(uploaded.keys())[0]\n",
    "folder_name = zip_path.replace('.zip', '')\n",
    "\n",
    "with zipfile.ZipFile(zip_path, 'r') as zip_ref:\n",
    "    zip_ref.extractall(folder_name)\n",
    "\n",
    "os.chdir(folder_name)\n",
    "print('✅ Game extracted to folder:', folder_name)"
   ]
  },
  {
   "cell_type": "code",
   "execution_count": null,
   "metadata": {},
   "outputs": [],
   "source": [
    "# --- Step 3: Initialize Buildozer ---\n",
    "!buildozer init"
   ]
  },
  {
   "cell_type": "code",
   "execution_count": null,
   "metadata": {},
   "outputs": [],
   "source": [
    "# --- Step 4: Auto-fix buildozer.spec ---\n",
    "!sed -i 's/source.dir = .*/source.dir = ./' buildozer.spec\n",
    "!sed -i 's/package.name = .*/package.name = mindmatrix/' buildozer.spec\n",
    "!sed -i 's/title = .*/title = MindMatrix/' buildozer.spec\n",
    "print('✅ buildozer.spec updated')"
   ]
  },
  {
   "cell_type": "code",
   "execution_count": null,
   "metadata": {},
   "outputs": [],
   "source": [
    "# --- Step 5: Build the APK (takes 30-60 minutes) ---\n",
    "!buildozer -v android debug"
   ]
  },
  {
   "cell_type": "code",
   "execution_count": null,
   "metadata": {},
   "outputs": [],
   "source": [
    "# --- Step 6: Download APK ---\n",
    "from google.colab import files\n",
    "files.download('bin/mindmatrix-0.1-debug.apk')"
   ]
  }
 ],
 "metadata": {
  "kernelspec": {
   "display_name": "Python 3",
   "language": "python",
   "name": "python3"
  },
  "language_info": {
   "name": "python",
   "version": "3.x"
  }
 },
 "nbformat": 4,
 "nbformat_minor": 2
}