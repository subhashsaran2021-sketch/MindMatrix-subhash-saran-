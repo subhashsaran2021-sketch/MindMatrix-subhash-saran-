{
  "cells": [
    {
      "cell_type": "markdown",
      "metadata": {},
      "source": [
        "# \ud83d\ude80 MindMatrix Signed APK Builder (Kivy + KivyMD)\n",
        "This Colab notebook will build a **signed APK** for your MindMatrix game.\n",
        "Steps:\n",
        "1. Install Buildozer & dependencies\n",
        "2. Upload your `MindMatrix.zip`\n",
        "3. Extract project files\n",
        "4. Auto-generate a keystore\n",
        "5. Configure `buildozer.spec`\n",
        "6. Build signed APK\n",
        "7. Download APK \u2705"
      ]
    },
    {
      "cell_type": "code",
      "execution_count": null,
      "metadata": {},
      "outputs": [],
      "source": [
        "# \ud83d\udd39 Step 1: Install Buildozer & dependencies\n",
        "!apt update\n",
        "!apt install -y python3-pip build-essential git python3-dev ffmpeg \\\n",
        "libsdl2-dev libsdl2-image-dev libsdl2-mixer-dev libsdl2-ttf-dev libportmidi-dev \\\n",
        "libswscale-dev libavformat-dev libavcodec-dev zlib1g-dev unzip openjdk-17-jdk\n",
        "\n",
        "!pip install --upgrade cython buildozer"
      ]
    },
    {
      "cell_type": "code",
      "execution_count": null,
      "metadata": {},
      "outputs": [],
      "source": [
        "# \ud83d\udd39 Step 2: Upload your MindMatrix.zip\n",
        "from google.colab import files\n",
        "uploaded = files.upload()   # Upload MindMatrix.zip here"
      ]
    },
    {
      "cell_type": "code",
      "execution_count": null,
      "metadata": {},
      "outputs": [],
      "source": [
        "# \ud83d\udd39 Step 3: Unzip & enter folder\n",
        "import os, zipfile\n",
        "\n",
        "zip_file = list(uploaded.keys())[0]   # Get uploaded filename\n",
        "extract_folder = \"MindMatrix\"\n",
        "\n",
        "with zipfile.ZipFile(zip_file, 'r') as zip_ref:\n",
        "    zip_ref.extractall(extract_folder)\n",
        "\n",
        "os.chdir(extract_folder)   # Go into MindMatrix folder\n",
        "print(\"\u2705 Current folder:\", os.getcwd())"
      ]
    },
    {
      "cell_type": "code",
      "execution_count": null,
      "metadata": {},
      "outputs": [],
      "source": [
        "# \ud83d\udd39 Step 4: Generate Keystore automatically\n",
        "if not os.path.exists(\"mindmatrix.keystore\"):\n",
        "    !keytool -genkey -v -keystore mindmatrix.keystore -alias mindmatrix \\\n",
        "    -keyalg RSA -keysize 2048 -validity 10000 -storepass mindmatrix -keypass mindmatrix \\\n",
        "    -dname \"CN=MindMatrix, OU=Dev, O=GameStudio, L=City, S=State, C=IN\"\n",
        "    \n",
        "print(\"\u2705 Keystore generated: mindmatrix.keystore\")"
      ]
    },
    {
      "cell_type": "code",
      "execution_count": null,
      "metadata": {},
      "outputs": [],
      "source": [
        "# \ud83d\udd39 Step 5: Create or update buildozer.spec\n",
        "if not os.path.exists(\"buildozer.spec\"):\n",
        "    with open(\"buildozer.spec\", \"w\") as f:\n",
        "        f.write(\"\"\"[app]\n",
        "title = MindMatrix\n",
        "package.name = mindmatrix\n",
        "package.domain = org.example\n",
        "source.include_exts = py,png,jpg,kv,atlas\n",
        "requirements = python3,kivy,kivymd\n",
        "orientation = portrait\n",
        "\n",
        "[buildozer]\n",
        "log_level = 2\n",
        "warn_on_root = 0\n",
        "\n",
        "[app:android]\n",
        "android.release_keystore = mindmatrix.keystore\n",
        "android.release_keyalias = mindmatrix\n",
        "android.release_keystore_pass = mindmatrix\n",
        "android.release_keyalias_pass = mindmatrix\n",
        "\"\"\")\n",
        "else:\n",
        "    # Append signing config if missing\n",
        "    with open(\"buildozer.spec\", \"a\") as f:\n",
        "        f.write(\"\"\"\n",
        "[app:android]\n",
        "android.release_keystore = mindmatrix.keystore\n",
        "android.release_keyalias = mindmatrix\n",
        "android.release_keystore_pass = mindmatrix\n",
        "android.release_keyalias_pass = mindmatrix\n",
        "\"\"\")\n",
        "print(\"\u2705 buildozer.spec is ready with signing config\")"
      ]
    },
    {
      "cell_type": "code",
      "execution_count": null,
      "metadata": {},
      "outputs": [],
      "source": [
        "# \ud83d\udd39 Step 6: Build Signed APK\n",
        "!buildozer -v android release"
      ]
    },
    {
      "cell_type": "code",
      "execution_count": null,
      "metadata": {},
      "outputs": [],
      "source": [
        "# \ud83d\udd39 Step 7: Download APK\n",
        "import glob\n",
        "from google.colab import files\n",
        "\n",
        "apk_files = glob.glob(\"bin/*.apk\")\n",
        "if apk_files:\n",
        "    print(\"\u2705 Signed APK generated:\", apk_files[0])\n",
        "    files.download(apk_files[0])\n",
        "else:\n",
        "    print(\"\u274c No APK found. Check Buildozer output.\")"
      ]
    }
  ],
  "metadata": {
    "colab": {
      "name": "MindMatrix_Signed_APK_Builder"
    },
    "kernelspec": {
      "display_name": "Python 3",
      "language": "python",
      "name": "python3"
    },
    "language_info": {
      "name": "python"
    }
  },
  "nbformat": 4,
  "nbformat_minor": 0
}