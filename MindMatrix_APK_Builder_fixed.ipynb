{
 "cells": [
  {
   "cell_type": "markdown",
   "id": "67195e59",
   "metadata": {},
   "source": [
    "# MindMatrix APK Builder (Colab)\n",
    "\n",
    "यह Notebook तैयार है ताकि आप अपना ZIP/प्रोजेक्ट अपलोड करके automated तरीके से `buildozer.spec` फिक्स कर सकें और APK बना सकें।\n",
    "\n",
    "**Usage (सारांश):** 1) ZIP अपलोड करें → 2) सभी सेल रन करें → 3) अगर build सफल रहा तो APK `bin/mindmatrix-0.1-debug.apk` से डाउनलोड करें।"
   ]
  },
  {
   "cell_type": "code",
   "execution_count": null,
   "id": "b2b88544",
   "metadata": {},
   "outputs": [],
   "source": [
    "# 1) Upload your project ZIP (or upload your whole project files)\n",
    "from google.colab import files\n",
    "uploaded = files.upload()\n",
    "for name in uploaded.keys():\n",
    "    print('Uploaded:', name)\n",
    "    if name.lower().endswith('.zip'):\n",
    "        import zipfile, os\n",
    "        folder = os.path.splitext(name)[0]\n",
    "        with zipfile.ZipFile(name, 'r') as z:\n",
    "            z.extractall(folder)\n",
    "        print('Extracted to folder:', folder)\n",
    "        # change into the extracted folder if it contains a single top-level folder\n",
    "        try:\n",
    "            # if there is a folder with the same name, cd into it\n",
    "            if os.path.isdir(folder):\n",
    "                os.chdir(folder)\n",
    "                print('Changed working directory to:', os.getcwd())\n",
    "        except Exception as e:\n",
    "            print('Note: could not change directory automatically:', e)"
   ]
  },
  {
   "cell_type": "code",
   "execution_count": null,
   "id": "da4c59ac",
   "metadata": {},
   "outputs": [],
   "source": [
    "# 2) (Optional) show current files so you can confirm where you are\n",
    "!pwd\n",
    "!ls -la"
   ]
  },
  {
   "cell_type": "code",
   "execution_count": null,
   "id": "d7787069",
   "metadata": {},
   "outputs": [],
   "source": [
    "# 3) Install / Prepare buildozer (may take some time). \n",
    "# NOTE: Colab environment may change over time — if these commands fail, follow an up-to-date guide.\n",
    "!apt-get update -qq\n",
    "!apt-get install -y -qq openjdk-8-jdk unzip\n",
    "!pip install --upgrade pip\n",
    "!pip install --upgrade buildozer Cython==0.29.33\n",
    "print('Buildozer install attempted. If errors occur, check the cell output.')"
   ]
  },
  {
   "cell_type": "code",
   "execution_count": null,
   "id": "7c947174",
   "metadata": {},
   "outputs": [],
   "source": [
    "# 4) Initialize buildozer (creates buildozer.spec if not present)\n",
    "# If you already have buildozer.spec in your project, this will not overwrite it.\n",
    "import os, subprocess, sys\n",
    "if not os.path.exists('buildozer.spec'):\n",
    "    # run buildozer init which creates a default file\n",
    "    try:\n",
    "        print('Running: buildozer init ... (this may print warnings)')\n",
    "        res = subprocess.run(['buildozer', 'init'], check=False, stdout=subprocess.PIPE, stderr=subprocess.STDOUT, text=True)\n",
    "        print(res.stdout[:2000])\n",
    "    except Exception as e:\n",
    "        print('buildozer init failed to run in this environment:', e)\n",
    "else:\n",
    "    print('buildozer.spec already exists in', os.getcwd())"
   ]
  },
  {
   "cell_type": "code",
   "execution_count": null,
   "id": "6facdfc0",
   "metadata": {},
   "outputs": [],
   "source": [
    "# 5) Auto-fix / ensure required keys in buildozer.spec\n",
    "# This will add or replace these keys under the [app] section:\n",
    "# title, package.name, package.domain, source.dir, version\n",
    "import os, re, shutil, textwrap\n",
    "\n",
    "spec_file = 'buildozer.spec'\n",
    "if not os.path.exists(spec_file):\n",
    "    print('Error: buildozer.spec not found in', os.getcwd())\n",
    "else:\n",
    "    txt = open(spec_file, 'r', encoding='utf-8').read()\n",
    "    if '[app]' not in txt:\n",
    "        txt = '[app]\\n' + txt  # ensure [app] exists\n",
    "    \n",
    "    def set_option(text, key, value):\n",
    "        pattern = rf'^{re.escape(key)}\\s*=.*$'\n",
    "        if re.search(pattern, text, flags=re.MULTILINE):\n",
    "            text = re.sub(pattern, f'{key} = {value}', text, flags=re.MULTILINE)\n",
    "        else:\n",
    "            # insert right after [app] header\n",
    "            parts = text.split('[app]')\n",
    "            if len(parts) >= 2:\n",
    "                head = parts[0] + '[app]\\n'\n",
    "                rest = '[app]'.join(parts[1:])\n",
    "                text = head + f'{key} = {value}\\n' + rest\n",
    "            else:\n",
    "                text = '[app]\\n' + f'{key} = {value}\\n' + text\n",
    "        return text\n",
    "    \n",
    "    replacements = [\n",
    "        ('title', 'MindMatrix'),\n",
    "        ('package.name', 'mindmatrix'),\n",
    "        ('package.domain', 'org.test'),\n",
    "        ('source.dir', '.'),\n",
    "        ('version', '0.1'),\n",
    "    ]\n",
    "    for k,v in replacements:\n",
    "        txt = set_option(txt, k, v)\n",
    "    # backup original\n",
    "    shutil.copyfile(spec_file, spec_file + '.bak')\n",
    "    open(spec_file, 'w', encoding='utf-8').write(txt)\n",
    "    print('Updated buildozer.spec — backup saved as', spec_file + '.bak')\n",
    "    print('\\n--- buildozer.spec snippet ---')\n",
    "    print('\\n'.join(open(spec_file,'r',encoding=\"utf-8\").read().splitlines()[:40]))"
   ]
  },
  {
   "cell_type": "code",
   "execution_count": null,
   "id": "ede019fa",
   "metadata": {},
   "outputs": [],
   "source": [
    "# These literal lines are included so the notebook contains the expected final config examples\n",
    "print('title = MindMatrix')\n",
    "print('package.name = mindmatrix')\n",
    "print('package.domain = org.test')\n",
    "print('source.dir = .')\n",
    "print('version = 0.1')\n"
   ]
  },
  {
   "cell_type": "code",
   "execution_count": null,
   "id": "95424a0f",
   "metadata": {},
   "outputs": [],
   "source": [
    "# 6) (Optional) show the full buildozer.spec after edit\n",
    "print('\\n'.join(open('buildozer.spec','r',encoding='utf-8').read().splitlines()[:400]))"
   ]
  },
  {
   "cell_type": "code",
   "execution_count": null,
   "id": "8a5c8a59",
   "metadata": {},
   "outputs": [],
   "source": [
    "# 7) Build the APK (this step can take ~30-60 minutes or more)\n",
    "# If you want to run with more control, run this cell and monitor output.\n",
    "import subprocess, os, sys\n",
    "cmd = ['buildozer', '-v', 'android', 'debug']\n",
    "print('Running:', ' '.join(cmd))\n",
    "p = subprocess.Popen(cmd, stdout=subprocess.PIPE, stderr=subprocess.STDOUT, text=True)\n",
    "# stream output line by line\n",
    "try:\n",
    "    for line in p.stdout:\n",
    "        print(line, end='')\n",
    "except Exception as e:\n",
    "    print('Build process stream interrupted:', e)\n",
    "p.wait()\n",
    "print('\\nBuild finished with return code', p.returncode)"
   ]
  },
  {
   "cell_type": "code",
   "execution_count": null,
   "id": "aa16907a",
   "metadata": {},
   "outputs": [],
   "source": [
    "# 8) Download the resulting APK if present\n",
    "from google.colab import files\n",
    "import os\n",
    "apk_path = 'bin/mindmatrix-0.1-debug.apk'\n",
    "if os.path.exists(apk_path):\n",
    "    print('Found APK:', apk_path)\n",
    "    files.download(apk_path)\n",
    "else:\n",
    "    print('APK not found at', apk_path)\n",
    "    print('Check the build output above. If build failed, fix errors and re-run the build cell.')"
   ]
  },
  {
   "cell_type": "markdown",
   "id": "3b2d2708",
   "metadata": {},
   "source": [
    "----\n",
    "\n",
    "**Notes / Troubleshooting**\n",
    "\n",
    "- अगर `buildozer` कमांड Colab पर एरर दे तो वह अक्सर environment या missing SDK/NDK कारण होता है — ऐसे मामलों में Termux या local Linux मशीन ज़्यादा भरोसेमंद होते हैं.\n",
    "- मैं यही Notebook तुम्हारे original `.ipynb` में जोड़ सकता हूँ — अगर तुम अपना original `.ipynb` अपलोड कर दोगे तो मैं उसे एडिट करके वापस कर दूंगा।"
   ]
  }
 ],
 "metadata": {},
 "nbformat": 4,
 "nbformat_minor": 5
}
